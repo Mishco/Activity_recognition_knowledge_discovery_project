{
 "cells": [
  {
   "cell_type": "code",
   "execution_count": 1,
   "metadata": {
    "collapsed": false
   },
   "outputs": [],
   "source": [
    "#import pandas and numpy libraries\n",
    "import pandas as pd\n",
    "import numpy as np\n",
    "import sys #sys needed only for python version\n",
    "#import gaussian naive bayes from scikit-learn\n",
    "import sklearn as sk\n",
    "#seaborn for pretty plots\n",
    "import seaborn as sns\n",
    "import os\n",
    "\n",
    "from sklearn import metrics\n",
    "from sklearn import svm\n"
   ]
  },
  {
   "cell_type": "code",
   "execution_count": 2,
   "metadata": {
    "collapsed": true
   },
   "outputs": [],
   "source": [
    "\n",
    "\n",
    "def log_progress(sequence, every=None, size=None, name='Items'):\n",
    "    from ipywidgets import IntProgress, HTML, VBox\n",
    "    from IPython.display import display\n",
    "\n",
    "    is_iterator = False\n",
    "    if size is None:\n",
    "        try:\n",
    "            size = len(sequence)\n",
    "        except TypeError:\n",
    "            is_iterator = True\n",
    "    if size is not None:\n",
    "        if every is None:\n",
    "            if size <= 200:\n",
    "                every = 1\n",
    "            else:\n",
    "                every = int(size / 200)     # every 0.5%\n",
    "    else:\n",
    "        assert every is not None, 'sequence is iterator, set every'\n",
    "\n",
    "    if is_iterator:\n",
    "        progress = IntProgress(min=0, max=1, value=1)\n",
    "        progress.bar_style = 'info'\n",
    "    else:\n",
    "        progress = IntProgress(min=0, max=size, value=0)\n",
    "    label = HTML()\n",
    "    box = VBox(children=[label, progress])\n",
    "    display(box)\n",
    "\n",
    "    index = 0\n",
    "    try:\n",
    "        for index, record in enumerate(sequence, 1):\n",
    "            if index == 1 or index % every == 0:\n",
    "                if is_iterator:\n",
    "                    label.value = '{name}: {index} / ?'.format(\n",
    "                        name=name,\n",
    "                        index=index\n",
    "                    )\n",
    "                else:\n",
    "                    progress.value = index\n",
    "                    label.value = u'{name}: {index} / {size}'.format(\n",
    "                        name=name,\n",
    "                        index=index,\n",
    "                        size=size\n",
    "                    )\n",
    "            yield record\n",
    "    except:\n",
    "        progress.bar_style = 'danger'\n",
    "        raise\n",
    "    else:\n",
    "        progress.bar_style = 'success'\n",
    "        progress.value = index\n",
    "        label.value = \"{name}: {index}\".format(\n",
    "            name=name,\n",
    "            index=str(index or '?')\n",
    "        )\n",
    "\n"
   ]
  },
  {
   "cell_type": "code",
   "execution_count": 3,
   "metadata": {
    "collapsed": false
   },
   "outputs": [],
   "source": [
    "# nacitanie dat \n",
    "#df_slide1 = pd.read_csv('size=25/sliding1.csv', sep=',', header=None,\n",
    "#                 error_bad_lines=False, warn_bad_lines=True, low_memory=False)\n",
    "\n"
   ]
  },
  {
   "cell_type": "code",
   "execution_count": 3,
   "metadata": {
    "collapsed": false
   },
   "outputs": [
    {
     "name": "stdout",
     "output_type": "stream",
     "text": [
      "\n"
     ]
    }
   ],
   "source": [
    "directory = 'size=25/'\n",
    "\n",
    "frames = []\n",
    "allcsvFiles = []\n",
    "for root,dirs, files in os.walk(directory):\n",
    "    for file in log_progress(files,every=1):\n",
    "        if (file.startswith(\"result\")):\n",
    "            print(\"\")       \n",
    "        else:\n",
    "           allcsvFiles.append(file)\n",
    "       #if (file.endswith(\".csv\")):\n",
    "       #    f=open(directory + file, 'r')\n",
    "       #    # perform calculation\n",
    "       #    df1 = pd.read_csv(f,sep=',')\n",
    "       #    frames.append(df1)\n",
    "       # \n",
    "       #    f.close()"
   ]
  },
  {
   "cell_type": "code",
   "execution_count": 4,
   "metadata": {
    "collapsed": false
   },
   "outputs": [
    {
     "name": "stdout",
     "output_type": "stream",
     "text": [
      "['sliding1.csv', 'sliding10.csv', 'sliding11.csv', 'sliding12.csv', 'sliding13.csv', 'sliding14.csv', 'sliding15.csv', 'sliding16.csv', 'sliding17.csv', 'sliding18.csv', 'sliding19.csv', 'sliding2.csv', 'sliding20.csv', 'sliding3.csv', 'sliding4.csv', 'sliding5.csv', 'sliding6.csv', 'sliding7.csv', 'sliding8.csv', 'sliding9.csv']\n"
     ]
    }
   ],
   "source": [
    "print(allcsvFiles)"
   ]
  },
  {
   "cell_type": "code",
   "execution_count": 5,
   "metadata": {
    "collapsed": false
   },
   "outputs": [],
   "source": [
    "def getint(name):\n",
    "    basename = name.partition('.')[0]\n",
    "    alpha, num = basename.split('g')\n",
    "    return int(num)\n",
    "allcsvFiles = sorted(allcsvFiles, key=getint)\n"
   ]
  },
  {
   "cell_type": "code",
   "execution_count": 6,
   "metadata": {
    "collapsed": true
   },
   "outputs": [],
   "source": [
    "directory = 'size=25/'\n",
    "frames = []\n",
    "for file in log_progress(allcsvFiles,every=1):\n",
    "       if (file.endswith(\".csv\")):\n",
    "           f=open(directory + file, 'r')\n",
    "           df1 = pd.read_csv(f,sep=',')\n",
    "           frames.append(df1)\n",
    "           f.close()"
   ]
  },
  {
   "cell_type": "code",
   "execution_count": 7,
   "metadata": {
    "collapsed": false
   },
   "outputs": [],
   "source": [
    "# zoradenie frames\n",
    "resultcsv = pd.concat(frames)\n"
   ]
  },
  {
   "cell_type": "code",
   "execution_count": 9,
   "metadata": {
    "collapsed": false,
    "scrolled": true
   },
   "outputs": [
    {
     "name": "stdout",
     "output_type": "stream",
     "text": [
      "       Unnamed: 0   0_x   0_y   0_z   1_x   1_y   1_z   2_x   2_y   2_z  ...   \\\n",
      "0               0  1502  2215  2153  1667  2072  2047  1611  1957  1906  ...    \n",
      "1               0  1667  2072  2047  1611  1957  1906  1601  1939  1831  ...    \n",
      "2               0  1611  1957  1906  1601  1939  1831  1643  1965  1879  ...    \n",
      "3               0  1601  1939  1831  1643  1965  1879  1604  1959  1921  ...    \n",
      "4               0  1643  1965  1879  1604  1959  1921  1640  1829  1940  ...    \n",
      "5               0  1604  1959  1921  1640  1829  1940  1607  1910  1910  ...    \n",
      "6               0  1640  1829  1940  1607  1910  1910  1546  2045  1910  ...    \n",
      "7               0  1607  1910  1910  1546  2045  1910  1529  2049  1972  ...    \n",
      "8               0  1546  2045  1910  1529  2049  1972  1637  1978  1945  ...    \n",
      "9               0  1529  2049  1972  1637  1978  1945  1596  2046  1866  ...    \n",
      "10              0  1637  1978  1945  1596  2046  1866  1590  2006  1978  ...    \n",
      "11              0  1596  2046  1866  1590  2006  1978  1601  1966  1957  ...    \n",
      "12              0  1590  2006  1978  1601  1966  1957  1542  2003  1959  ...    \n",
      "13              0  1601  1966  1957  1542  2003  1959  1598  2027  1941  ...    \n",
      "14              0  1542  2003  1959  1598  2027  1941  1511  2258  1983  ...    \n",
      "15              0  1598  2027  1941  1511  2258  1983  1555  1980  2023  ...    \n",
      "16              0  1511  2258  1983  1555  1980  2023  1508  2468  1934  ...    \n",
      "17              0  1555  1980  2023  1508  2468  1934  1580  1697  2005  ...    \n",
      "18              0  1508  2468  1934  1580  1697  2005  1627  2073  1992  ...    \n",
      "19              0  1580  1697  2005  1627  2073  1992  1592  2130  2063  ...    \n",
      "20              0  1627  2073  1992  1592  2130  2063  1634  2088  1991  ...    \n",
      "21              0  1592  2130  2063  1634  2088  1991  1638  2102  1916  ...    \n",
      "22              0  1634  2088  1991  1638  2102  1916  1593  2123  1948  ...    \n",
      "23              0  1638  2102  1916  1593  2123  1948  1542  2133  2034  ...    \n",
      "24              0  1593  2123  1948  1542  2133  2034  1601  2015  2042  ...    \n",
      "25              0  1542  2133  2034  1601  2015  2042  1613  1938  1936  ...    \n",
      "26              0  1601  2015  2042  1613  1938  1936  1644  1974  2000  ...    \n",
      "27              0  1613  1938  1936  1644  1974  2000  1642  1933  2046  ...    \n",
      "28              0  1644  1974  2000  1642  1933  2046  1605  1925  2011  ...    \n",
      "29              0  1642  1933  2046  1605  1925  2011  1586  1998  2066  ...    \n",
      "...           ...   ...   ...   ...   ...   ...   ...   ...   ...   ...  ...    \n",
      "26865           0  2069  2541  2060  2067  2541  2052  2063  2544  2053  ...    \n",
      "26866           0  2067  2541  2052  2063  2544  2053  2061  2539  2053  ...    \n",
      "26867           0  2063  2544  2053  2061  2539  2053  2071  2541  2057  ...    \n",
      "26868           0  2061  2539  2053  2071  2541  2057  2067  2543  2056  ...    \n",
      "26869           0  2071  2541  2057  2067  2543  2056  2070  2538  2053  ...    \n",
      "26870           0  2067  2543  2056  2070  2538  2053  2067  2538  2051  ...    \n",
      "26871           0  2070  2538  2053  2067  2538  2051  2070  2542  2056  ...    \n",
      "26872           0  2067  2538  2051  2070  2542  2056  2068  2542  2056  ...    \n",
      "26873           0  2070  2542  2056  2068  2542  2056  2072  2542  2059  ...    \n",
      "26874           0  2068  2542  2056  2072  2542  2059  2069  2543  2058  ...    \n",
      "26875           0  2072  2542  2059  2069  2543  2058  2075  2544  2057  ...    \n",
      "26876           0  2069  2543  2058  2075  2544  2057  2073  2543  2051  ...    \n",
      "26877           0  2075  2544  2057  2073  2543  2051  2066  2536  2053  ...    \n",
      "26878           0  2073  2543  2051  2066  2536  2053  2069  2541  2059  ...    \n",
      "26879           0  2066  2536  2053  2069  2541  2059  2065  2533  2067  ...    \n",
      "26880           0  2069  2541  2059  2065  2533  2067  2073  2535  2071  ...    \n",
      "26881           0  2065  2533  2067  2073  2535  2071  2078  2539  2063  ...    \n",
      "26882           0  2073  2535  2071  2078  2539  2063  2075  2539  2064  ...    \n",
      "26883           0  2078  2539  2063  2075  2539  2064  2079  2540  2068  ...    \n",
      "26884           0  2075  2539  2064  2079  2540  2068  2074  2539  2066  ...    \n",
      "26885           0  2079  2540  2068  2074  2539  2066  2080  2533  2065  ...    \n",
      "26886           0  2074  2539  2066  2080  2533  2065  2072  2535  2057  ...    \n",
      "26887           0  2080  2533  2065  2072  2535  2057  2078  2536  2049  ...    \n",
      "26888           0  2072  2535  2057  2078  2536  2049  2071  2543  2057  ...    \n",
      "26889           0  2078  2536  2049  2071  2543  2057  2070  2541  2062  ...    \n",
      "26890           0  2071  2543  2057  2070  2541  2062  2070  2539  2055  ...    \n",
      "26891           0  2070  2541  2062  2070  2539  2055  2062  2546  2058  ...    \n",
      "26892           0  2070  2539  2055  2062  2546  2058  2072  2547  2054  ...    \n",
      "26893           0  2062  2546  2058  2072  2547  2054  2074  2548  2057  ...    \n",
      "26894           0  2072  2547  2054  2074  2548  2057  2077  2545  2060  ...    \n",
      "\n",
      "       22_y  22_z  23_x  23_y  23_z  24_x  24_y  24_z  movement  user  \n",
      "0      2088  1991  1638  2102  1916  1593  2123  1948         1     1  \n",
      "1      2102  1916  1593  2123  1948  1542  2133  2034         1     1  \n",
      "2      2123  1948  1542  2133  2034  1601  2015  2042         1     1  \n",
      "3      2133  2034  1601  2015  2042  1613  1938  1936         1     1  \n",
      "4      2015  2042  1613  1938  1936  1644  1974  2000         1     1  \n",
      "5      1938  1936  1644  1974  2000  1642  1933  2046         1     1  \n",
      "6      1974  2000  1642  1933  2046  1605  1925  2011         1     1  \n",
      "7      1933  2046  1605  1925  2011  1586  1998  2066         1     1  \n",
      "8      1925  2011  1586  1998  2066  1577  2032  2108         1     1  \n",
      "9      1998  2066  1577  2032  2108  1598  1980  2066         1     1  \n",
      "10     2032  2108  1598  1980  2066  1561  1942  2092         1     1  \n",
      "11     1980  2066  1561  1942  2092  1628  1935  2142         1     1  \n",
      "12     1942  2092  1628  1935  2142  1694  1965  2052         1     1  \n",
      "13     1935  2142  1694  1965  2052  1627  1922  2081         1     1  \n",
      "14     1965  2052  1627  1922  2081  1598  1950  2117         1     1  \n",
      "15     1922  2081  1598  1950  2117  1612  1952  2075         1     1  \n",
      "16     1950  2117  1612  1952  2075  1630  1958  2024         1     1  \n",
      "17     1952  2075  1630  1958  2024  1609  1973  2005         1     1  \n",
      "18     1958  2024  1609  1973  2005  1600  1983  2014         1     1  \n",
      "19     1973  2005  1600  1983  2014  1608  1969  2024         1     1  \n",
      "20     1983  2014  1608  1969  2024  1612  1957  2019         1     1  \n",
      "21     1969  2024  1612  1957  2019  1605  1943  2018         1     1  \n",
      "22     1957  2019  1605  1943  2018  1640  1917  2037         1     1  \n",
      "23     1943  2018  1640  1917  2037  1610  1949  2077         1     1  \n",
      "24     1917  2037  1610  1949  2077  1633  1930  2076         1     1  \n",
      "25     1949  2077  1633  1930  2076  1573  1868  2058         1     1  \n",
      "26     1930  2076  1573  1868  2058  1568  1944  1959         1     1  \n",
      "27     1868  2058  1568  1944  1959  1576  2217  2059         1     1  \n",
      "28     1944  1959  1576  2217  2059  1599  2045  2154         1     1  \n",
      "29     2217  2059  1599  2045  2154  1620  1981  2168         1     1  \n",
      "...     ...   ...   ...   ...   ...   ...   ...   ...       ...   ...  \n",
      "26865  2533  2065  2072  2535  2057  2078  2536  2049         7     9  \n",
      "26866  2535  2057  2078  2536  2049  2071  2543  2057         7     9  \n",
      "26867  2536  2049  2071  2543  2057  2070  2541  2062         7     9  \n",
      "26868  2543  2057  2070  2541  2062  2070  2539  2055         7     9  \n",
      "26869  2541  2062  2070  2539  2055  2062  2546  2058         7     9  \n",
      "26870  2539  2055  2062  2546  2058  2072  2547  2054         7     9  \n",
      "26871  2546  2058  2072  2547  2054  2074  2548  2057         7     9  \n",
      "26872  2547  2054  2074  2548  2057  2077  2545  2060         7     9  \n",
      "26873  2548  2057  2077  2545  2060  2074  2542  2060         7     9  \n",
      "26874  2545  2060  2074  2542  2060  2076  2536  2058         7     9  \n",
      "26875  2542  2060  2076  2536  2058  2069  2533  2061         7     9  \n",
      "26876  2536  2058  2069  2533  2061  2088  2531  2056         7     9  \n",
      "26877  2533  2061  2088  2531  2056  2078  2529  2064         7     9  \n",
      "26878  2531  2056  2078  2529  2064  2075  2534  2061         7     9  \n",
      "26879  2529  2064  2075  2534  2061  2074  2543  2059         7     9  \n",
      "26880  2534  2061  2074  2543  2059  2071  2546  2066         7     9  \n",
      "26881  2543  2059  2071  2546  2066  2068  2539  2056         7     9  \n",
      "26882  2546  2066  2068  2539  2056  2069  2540  2061         7     9  \n",
      "26883  2539  2056  2069  2540  2061  2071  2533  2060         7     9  \n",
      "26884  2540  2061  2071  2533  2060  2076  2536  2063         7     9  \n",
      "26885  2533  2060  2076  2536  2063  2073  2542  2063         7     9  \n",
      "26886  2536  2063  2073  2542  2063  2070  2540  2065         7     9  \n",
      "26887  2542  2063  2070  2540  2065  2074  2547  2064         7     9  \n",
      "26888  2540  2065  2074  2547  2064  2071  2548  2061         7     9  \n",
      "26889  2547  2064  2071  2548  2061  2065  2544  2060         7     9  \n",
      "26890  2548  2061  2065  2544  2060  2071  2549  2053         7     9  \n",
      "26891  2544  2060  2071  2549  2053  2072  2545  2059         7     9  \n",
      "26892  2549  2053  2072  2545  2059  2069  2547  2064         7     9  \n",
      "26893  2545  2059  2069  2547  2064  2069  2542  2062         7     9  \n",
      "26894  2547  2064  2069  2542  2062  2069  2543  2063         7     9  \n",
      "\n",
      "[1923175 rows x 78 columns]\n",
      "['0_x', '0_y', '0_z', '1_x', '1_y', '1_z', '2_x', '2_y', '2_z', '3_x', '3_y', '3_z', '4_x', '4_y', '4_z', '5_x', '5_y', '5_z', '6_x', '6_y', '6_z', '7_x', '7_y', '7_z', '8_x', '8_y', '8_z', '9_x', '9_y', '9_z', '10_x', '10_y', '10_z', '11_x', '11_y', '11_z', '12_x', '12_y', '12_z', '13_x', '13_y', '13_z', '14_x', '14_y', '14_z', '15_x', '15_y', '15_z', '16_x', '16_y', '16_z', '17_x', '17_y', '17_z', '18_x', '18_y', '18_z', '19_x', '19_y', '19_z', '20_x', '20_y', '20_z', '21_x', '21_y', '21_z', '22_x', '22_y', '22_z', '23_x', '23_y', '23_z', '24_x', '24_y', '24_z']\n"
     ]
    }
   ],
   "source": [
    "# SAVE TO CSV FILE\n",
    "print(resultcsv)\n",
    "del resultcsv['Unnamed: 0']\n",
    "# del resultcsv['level_0']\n",
    "# del resultcsv['index']\n",
    "resultcsv = resultcsv.reset_index()\n",
    "\n",
    "del resultcsv['index']\n",
    "#del resultcsv['level_0']\n",
    "resultcsv.to_csv(directory + 'result.csv', sep=',')\n",
    "# print(resultcsv.columns)\n",
    "cols = [col for col in resultcsv.columns if col not in ['Unnamed: 0','movement','user']]\n",
    "\n",
    "print(cols)"
   ]
  },
  {
   "cell_type": "code",
   "execution_count": 10,
   "metadata": {
    "collapsed": false,
    "scrolled": true
   },
   "outputs": [
    {
     "name": "stdout",
     "output_type": "stream",
     "text": [
      "          0_x   0_y   0_z   1_x   1_y   1_z   2_x   2_y   2_z   3_x  ...   \\\n",
      "0        1502  2215  2153  1667  2072  2047  1611  1957  1906  1601  ...    \n",
      "1        1667  2072  2047  1611  1957  1906  1601  1939  1831  1643  ...    \n",
      "2        1611  1957  1906  1601  1939  1831  1643  1965  1879  1604  ...    \n",
      "3        1601  1939  1831  1643  1965  1879  1604  1959  1921  1640  ...    \n",
      "4        1643  1965  1879  1604  1959  1921  1640  1829  1940  1607  ...    \n",
      "5        1604  1959  1921  1640  1829  1940  1607  1910  1910  1546  ...    \n",
      "6        1640  1829  1940  1607  1910  1910  1546  2045  1910  1529  ...    \n",
      "7        1607  1910  1910  1546  2045  1910  1529  2049  1972  1637  ...    \n",
      "8        1546  2045  1910  1529  2049  1972  1637  1978  1945  1596  ...    \n",
      "9        1529  2049  1972  1637  1978  1945  1596  2046  1866  1590  ...    \n",
      "10       1637  1978  1945  1596  2046  1866  1590  2006  1978  1601  ...    \n",
      "11       1596  2046  1866  1590  2006  1978  1601  1966  1957  1542  ...    \n",
      "12       1590  2006  1978  1601  1966  1957  1542  2003  1959  1598  ...    \n",
      "13       1601  1966  1957  1542  2003  1959  1598  2027  1941  1511  ...    \n",
      "14       1542  2003  1959  1598  2027  1941  1511  2258  1983  1555  ...    \n",
      "15       1598  2027  1941  1511  2258  1983  1555  1980  2023  1508  ...    \n",
      "16       1511  2258  1983  1555  1980  2023  1508  2468  1934  1580  ...    \n",
      "17       1555  1980  2023  1508  2468  1934  1580  1697  2005  1627  ...    \n",
      "18       1508  2468  1934  1580  1697  2005  1627  2073  1992  1592  ...    \n",
      "19       1580  1697  2005  1627  2073  1992  1592  2130  2063  1634  ...    \n",
      "20       1627  2073  1992  1592  2130  2063  1634  2088  1991  1638  ...    \n",
      "21       1592  2130  2063  1634  2088  1991  1638  2102  1916  1593  ...    \n",
      "22       1634  2088  1991  1638  2102  1916  1593  2123  1948  1542  ...    \n",
      "23       1638  2102  1916  1593  2123  1948  1542  2133  2034  1601  ...    \n",
      "24       1593  2123  1948  1542  2133  2034  1601  2015  2042  1613  ...    \n",
      "25       1542  2133  2034  1601  2015  2042  1613  1938  1936  1644  ...    \n",
      "26       1601  2015  2042  1613  1938  1936  1644  1974  2000  1642  ...    \n",
      "27       1613  1938  1936  1644  1974  2000  1642  1933  2046  1605  ...    \n",
      "28       1644  1974  2000  1642  1933  2046  1605  1925  2011  1586  ...    \n",
      "29       1642  1933  2046  1605  1925  2011  1586  1998  2066  1577  ...    \n",
      "...       ...   ...   ...   ...   ...   ...   ...   ...   ...   ...  ...    \n",
      "1923145  2069  2541  2060  2067  2541  2052  2063  2544  2053  2061  ...    \n",
      "1923146  2067  2541  2052  2063  2544  2053  2061  2539  2053  2071  ...    \n",
      "1923147  2063  2544  2053  2061  2539  2053  2071  2541  2057  2067  ...    \n",
      "1923148  2061  2539  2053  2071  2541  2057  2067  2543  2056  2070  ...    \n",
      "1923149  2071  2541  2057  2067  2543  2056  2070  2538  2053  2067  ...    \n",
      "1923150  2067  2543  2056  2070  2538  2053  2067  2538  2051  2070  ...    \n",
      "1923151  2070  2538  2053  2067  2538  2051  2070  2542  2056  2068  ...    \n",
      "1923152  2067  2538  2051  2070  2542  2056  2068  2542  2056  2072  ...    \n",
      "1923153  2070  2542  2056  2068  2542  2056  2072  2542  2059  2069  ...    \n",
      "1923154  2068  2542  2056  2072  2542  2059  2069  2543  2058  2075  ...    \n",
      "1923155  2072  2542  2059  2069  2543  2058  2075  2544  2057  2073  ...    \n",
      "1923156  2069  2543  2058  2075  2544  2057  2073  2543  2051  2066  ...    \n",
      "1923157  2075  2544  2057  2073  2543  2051  2066  2536  2053  2069  ...    \n",
      "1923158  2073  2543  2051  2066  2536  2053  2069  2541  2059  2065  ...    \n",
      "1923159  2066  2536  2053  2069  2541  2059  2065  2533  2067  2073  ...    \n",
      "1923160  2069  2541  2059  2065  2533  2067  2073  2535  2071  2078  ...    \n",
      "1923161  2065  2533  2067  2073  2535  2071  2078  2539  2063  2075  ...    \n",
      "1923162  2073  2535  2071  2078  2539  2063  2075  2539  2064  2079  ...    \n",
      "1923163  2078  2539  2063  2075  2539  2064  2079  2540  2068  2074  ...    \n",
      "1923164  2075  2539  2064  2079  2540  2068  2074  2539  2066  2080  ...    \n",
      "1923165  2079  2540  2068  2074  2539  2066  2080  2533  2065  2072  ...    \n",
      "1923166  2074  2539  2066  2080  2533  2065  2072  2535  2057  2078  ...    \n",
      "1923167  2080  2533  2065  2072  2535  2057  2078  2536  2049  2071  ...    \n",
      "1923168  2072  2535  2057  2078  2536  2049  2071  2543  2057  2070  ...    \n",
      "1923169  2078  2536  2049  2071  2543  2057  2070  2541  2062  2070  ...    \n",
      "1923170  2071  2543  2057  2070  2541  2062  2070  2539  2055  2062  ...    \n",
      "1923171  2070  2541  2062  2070  2539  2055  2062  2546  2058  2072  ...    \n",
      "1923172  2070  2539  2055  2062  2546  2058  2072  2547  2054  2074  ...    \n",
      "1923173  2062  2546  2058  2072  2547  2054  2074  2548  2057  2077  ...    \n",
      "1923174  2072  2547  2054  2074  2548  2057  2077  2545  2060  2074  ...    \n",
      "\n",
      "         22_y  22_z  23_x  23_y  23_z  24_x  24_y  24_z  movement  user  \n",
      "0        2088  1991  1638  2102  1916  1593  2123  1948         1     1  \n",
      "1        2102  1916  1593  2123  1948  1542  2133  2034         1     1  \n",
      "2        2123  1948  1542  2133  2034  1601  2015  2042         1     1  \n",
      "3        2133  2034  1601  2015  2042  1613  1938  1936         1     1  \n",
      "4        2015  2042  1613  1938  1936  1644  1974  2000         1     1  \n",
      "5        1938  1936  1644  1974  2000  1642  1933  2046         1     1  \n",
      "6        1974  2000  1642  1933  2046  1605  1925  2011         1     1  \n",
      "7        1933  2046  1605  1925  2011  1586  1998  2066         1     1  \n",
      "8        1925  2011  1586  1998  2066  1577  2032  2108         1     1  \n",
      "9        1998  2066  1577  2032  2108  1598  1980  2066         1     1  \n",
      "10       2032  2108  1598  1980  2066  1561  1942  2092         1     1  \n",
      "11       1980  2066  1561  1942  2092  1628  1935  2142         1     1  \n",
      "12       1942  2092  1628  1935  2142  1694  1965  2052         1     1  \n",
      "13       1935  2142  1694  1965  2052  1627  1922  2081         1     1  \n",
      "14       1965  2052  1627  1922  2081  1598  1950  2117         1     1  \n",
      "15       1922  2081  1598  1950  2117  1612  1952  2075         1     1  \n",
      "16       1950  2117  1612  1952  2075  1630  1958  2024         1     1  \n",
      "17       1952  2075  1630  1958  2024  1609  1973  2005         1     1  \n",
      "18       1958  2024  1609  1973  2005  1600  1983  2014         1     1  \n",
      "19       1973  2005  1600  1983  2014  1608  1969  2024         1     1  \n",
      "20       1983  2014  1608  1969  2024  1612  1957  2019         1     1  \n",
      "21       1969  2024  1612  1957  2019  1605  1943  2018         1     1  \n",
      "22       1957  2019  1605  1943  2018  1640  1917  2037         1     1  \n",
      "23       1943  2018  1640  1917  2037  1610  1949  2077         1     1  \n",
      "24       1917  2037  1610  1949  2077  1633  1930  2076         1     1  \n",
      "25       1949  2077  1633  1930  2076  1573  1868  2058         1     1  \n",
      "26       1930  2076  1573  1868  2058  1568  1944  1959         1     1  \n",
      "27       1868  2058  1568  1944  1959  1576  2217  2059         1     1  \n",
      "28       1944  1959  1576  2217  2059  1599  2045  2154         1     1  \n",
      "29       2217  2059  1599  2045  2154  1620  1981  2168         1     1  \n",
      "...       ...   ...   ...   ...   ...   ...   ...   ...       ...   ...  \n",
      "1923145  2533  2065  2072  2535  2057  2078  2536  2049         7     9  \n",
      "1923146  2535  2057  2078  2536  2049  2071  2543  2057         7     9  \n",
      "1923147  2536  2049  2071  2543  2057  2070  2541  2062         7     9  \n",
      "1923148  2543  2057  2070  2541  2062  2070  2539  2055         7     9  \n",
      "1923149  2541  2062  2070  2539  2055  2062  2546  2058         7     9  \n",
      "1923150  2539  2055  2062  2546  2058  2072  2547  2054         7     9  \n",
      "1923151  2546  2058  2072  2547  2054  2074  2548  2057         7     9  \n",
      "1923152  2547  2054  2074  2548  2057  2077  2545  2060         7     9  \n",
      "1923153  2548  2057  2077  2545  2060  2074  2542  2060         7     9  \n",
      "1923154  2545  2060  2074  2542  2060  2076  2536  2058         7     9  \n",
      "1923155  2542  2060  2076  2536  2058  2069  2533  2061         7     9  \n",
      "1923156  2536  2058  2069  2533  2061  2088  2531  2056         7     9  \n",
      "1923157  2533  2061  2088  2531  2056  2078  2529  2064         7     9  \n",
      "1923158  2531  2056  2078  2529  2064  2075  2534  2061         7     9  \n",
      "1923159  2529  2064  2075  2534  2061  2074  2543  2059         7     9  \n",
      "1923160  2534  2061  2074  2543  2059  2071  2546  2066         7     9  \n",
      "1923161  2543  2059  2071  2546  2066  2068  2539  2056         7     9  \n",
      "1923162  2546  2066  2068  2539  2056  2069  2540  2061         7     9  \n",
      "1923163  2539  2056  2069  2540  2061  2071  2533  2060         7     9  \n",
      "1923164  2540  2061  2071  2533  2060  2076  2536  2063         7     9  \n",
      "1923165  2533  2060  2076  2536  2063  2073  2542  2063         7     9  \n",
      "1923166  2536  2063  2073  2542  2063  2070  2540  2065         7     9  \n",
      "1923167  2542  2063  2070  2540  2065  2074  2547  2064         7     9  \n",
      "1923168  2540  2065  2074  2547  2064  2071  2548  2061         7     9  \n",
      "1923169  2547  2064  2071  2548  2061  2065  2544  2060         7     9  \n",
      "1923170  2548  2061  2065  2544  2060  2071  2549  2053         7     9  \n",
      "1923171  2544  2060  2071  2549  2053  2072  2545  2059         7     9  \n",
      "1923172  2549  2053  2072  2545  2059  2069  2547  2064         7     9  \n",
      "1923173  2545  2059  2069  2547  2064  2069  2542  2062         7     9  \n",
      "1923174  2547  2064  2069  2542  2062  2069  2543  2063         7     9  \n",
      "\n",
      "[1923175 rows x 77 columns]\n"
     ]
    }
   ],
   "source": [
    "print (resultcsv)"
   ]
  },
  {
   "cell_type": "code",
   "execution_count": 11,
   "metadata": {
    "collapsed": false
   },
   "outputs": [],
   "source": [
    "\n",
    "from sklearn.cross_validation import train_test_split\n",
    "x_train, x_test, y_train, y_test = train_test_split(resultcsv[cols], resultcsv['movement'], test_size=0.2)\n",
    "\n",
    "#initialize and fit the naive bayes classifier\n",
    "from sklearn.naive_bayes import GaussianNB\n",
    "skgnb = GaussianNB()"
   ]
  },
  {
   "cell_type": "code",
   "execution_count": 82,
   "metadata": {
    "collapsed": false
   },
   "outputs": [],
   "source": [
    "#print(y_train)\n",
    "\n",
    "skgnb.fit(x_train,y_train)\n",
    "train_predict = skgnb.predict(x_train)\n",
    "#print(train_predict))"
   ]
  },
  {
   "cell_type": "code",
   "execution_count": 83,
   "metadata": {
    "collapsed": false
   },
   "outputs": [
    {
     "name": "stdout",
     "output_type": "stream",
     "text": [
      "[4 2 2 ..., 7 0 0]\n"
     ]
    }
   ],
   "source": [
    "print(train_predict)"
   ]
  },
  {
   "cell_type": "code",
   "execution_count": 86,
   "metadata": {
    "collapsed": false
   },
   "outputs": [
    {
     "name": "stdout",
     "output_type": "stream",
     "text": [
      "Training accuracy: 0.267177323956\n",
      "Testing accuracy: 0.26783314051\n"
     ]
    }
   ],
   "source": [
    "#see how accurate the training data was fit\n",
    "print(\"Training accuracy:\",metrics.accuracy_score(y_train, train_predict))\n",
    "\n",
    "#use the trained model to predict the test values\n",
    "test_predict = skgnb.predict(x_test)\n",
    "print(\"Testing accuracy:\",metrics.accuracy_score(y_test, test_predict))"
   ]
  },
  {
   "cell_type": "markdown",
   "metadata": {},
   "source": [
    "**naive-bayes na vzorke test_size=33** \n",
    "* aj metriky\n"
   ]
  },
  {
   "cell_type": "code",
   "execution_count": 87,
   "metadata": {
    "collapsed": false
   },
   "outputs": [
    {
     "name": "stdout",
     "output_type": "stream",
     "text": [
      "Training accuracy: 0.267741382214\n",
      "Testing accuracy: 0.266686415147\n"
     ]
    }
   ],
   "source": [
    "x_train, x_test, y_train, y_test = train_test_split(resultcsv[cols], resultcsv['movement'], test_size=0.33)\n",
    "skgnb = GaussianNB()\n",
    "skgnb.fit(x_train,y_train)\n",
    "train_predict = skgnb.predict(x_train)\n",
    "test_predict = skgnb.predict(x_test)\n",
    "\n",
    "print(\"Training accuracy:\",metrics.accuracy_score(y_train, train_predict))\n",
    "print(\"Testing accuracy:\",metrics.accuracy_score(y_test, test_predict))"
   ]
  },
  {
   "cell_type": "code",
   "execution_count": 4,
   "metadata": {
    "collapsed": false
   },
   "outputs": [
    {
     "data": {
      "text/plain": [
       "SVC(C=1.0, cache_size=200, class_weight=None, coef0=0.0,\n",
       "  decision_function_shape=None, degree=3, gamma='auto', kernel='rbf',\n",
       "  max_iter=-1, probability=False, random_state=None, shrinking=True,\n",
       "  tol=0.001, verbose=False)"
      ]
     },
     "execution_count": 4,
     "metadata": {},
     "output_type": "execute_result"
    }
   ],
   "source": [
    "X = [[0, 0], [1, 1]]\n",
    "y = [0, 1]\n",
    "clf = svm.SVC()\n",
    "clf.fit(X, y) "
   ]
  },
  {
   "cell_type": "code",
   "execution_count": 25,
   "metadata": {
    "collapsed": false
   },
   "outputs": [
    {
     "name": "stdout",
     "output_type": "stream",
     "text": [
      "Wall time: 0 ns\n"
     ]
    },
    {
     "name": "stderr",
     "output_type": "stream",
     "text": [
      "D:\\Program Files\\Anaconda\\lib\\site-packages\\sklearn\\svm\\base.py:224: ConvergenceWarning: Solver terminated early (max_iter=17).  Consider pre-processing your data with StandardScaler or MinMaxScaler.\n",
      "  % self.max_iter, ConvergenceWarning)\n"
     ]
    },
    {
     "data": {
      "text/plain": [
       "SVC(C=1.0, cache_size=2000, class_weight=None, coef0=0.0,\n",
       "  decision_function_shape=None, degree=3, gamma='auto', kernel='rbf',\n",
       "  max_iter=17, probability=False, random_state=None, shrinking=True,\n",
       "  tol=0.001, verbose=False)"
      ]
     },
     "execution_count": 25,
     "metadata": {},
     "output_type": "execute_result"
    }
   ],
   "source": [
    "# SVM clasifikator\n",
    "# x_train, x_test, y_train, y_test\n",
    "%%time\n",
    "clf = svm.SVC(max_iter=17, cache_size=2000)\n",
    "clf.fit(x_train, y_train) "
   ]
  },
  {
   "cell_type": "code",
   "execution_count": 26,
   "metadata": {
    "collapsed": false
   },
   "outputs": [],
   "source": [
    "predicted_value = clf.predict(x_test)"
   ]
  },
  {
   "cell_type": "code",
   "execution_count": 27,
   "metadata": {
    "collapsed": false
   },
   "outputs": [
    {
     "name": "stdout",
     "output_type": "stream",
     "text": [
      "Testing accuracy: 0.118325165417\n"
     ]
    }
   ],
   "source": [
    "print(\"Testing accuracy:\",metrics.accuracy_score(y_test, predicted_value))"
   ]
  },
  {
   "cell_type": "code",
   "execution_count": 81,
   "metadata": {
    "collapsed": true
   },
   "outputs": [],
   "source": []
  },
  {
   "cell_type": "code",
   "execution_count": 78,
   "metadata": {
    "collapsed": false
   },
   "outputs": [
    {
     "name": "stdout",
     "output_type": "stream",
     "text": [
      "Wall time: 20.7 s\n"
     ]
    }
   ],
   "source": [
    "%%time\n",
    "SGD_classifier = linear_model.SGDClassifier(n_jobs=-1, power_t=0.11, penalty='elasticnet')\n",
    "SGD_classifier.fit(x_train, y_train)\n",
    "#  power_t=0.01 ... Testing accuracy: 0.31619587401\n",
    "#  power_t=0.11 ... Testing accuracy: 0.316232272154\n",
    "#  power_t=0.21 ... Testing accuracy: 0.30910863546\n",
    "#  power_t=0.35 ... Testing accuracy: 0.0318405761306\n",
    "#  power_t=0.45 ... Testing accuracy: 0.312992837365\n",
    "#  power_t=0.61 ... Testing accuracy: 0.31578509496\n",
    "#  power_t=0.91 ... Testing accuracy: 0.183280252707"
   ]
  },
  {
   "cell_type": "code",
   "execution_count": 79,
   "metadata": {
    "collapsed": true
   },
   "outputs": [],
   "source": [
    "predicted_value = SGD_classifier.predict(x_test)"
   ]
  },
  {
   "cell_type": "code",
   "execution_count": 80,
   "metadata": {
    "collapsed": false
   },
   "outputs": [
    {
     "name": "stdout",
     "output_type": "stream",
     "text": [
      "Testing accuracy: 0.309095636123\n"
     ]
    }
   ],
   "source": [
    "print(\"Testing accuracy:\",metrics.accuracy_score(y_test, predicted_value))"
   ]
  },
  {
   "cell_type": "code",
   "execution_count": null,
   "metadata": {
    "collapsed": true
   },
   "outputs": [],
   "source": [
    "from sklearn.cluster import KMeans"
   ]
  },
  {
   "cell_type": "markdown",
   "metadata": {},
   "source": []
  },
  {
   "cell_type": "code",
   "execution_count": 93,
   "metadata": {
    "collapsed": false,
    "scrolled": true
   },
   "outputs": [
    {
     "name": "stderr",
     "output_type": "stream",
     "text": [
      "D:\\Program Files\\Anaconda\\lib\\site-packages\\sklearn\\externals\\joblib\\hashing.py:197: DeprecationWarning: Changing the shape of non-C contiguous array by\n",
      "descriptor assignment is deprecated. To maintain\n",
      "the Fortran contiguity of a multidimensional Fortran\n",
      "array, use 'a.T.view(...).T' instead\n",
      "  obj_bytes_view = obj.view(self.np.uint8)\n",
      "D:\\Program Files\\Anaconda\\lib\\site-packages\\sklearn\\externals\\joblib\\hashing.py:197: DeprecationWarning: Changing the shape of non-C contiguous array by\n",
      "descriptor assignment is deprecated. To maintain\n",
      "the Fortran contiguity of a multidimensional Fortran\n",
      "array, use 'a.T.view(...).T' instead\n",
      "  obj_bytes_view = obj.view(self.np.uint8)\n",
      "D:\\Program Files\\Anaconda\\lib\\site-packages\\sklearn\\externals\\joblib\\hashing.py:197: DeprecationWarning: Changing the shape of non-C contiguous array by\n",
      "descriptor assignment is deprecated. To maintain\n",
      "the Fortran contiguity of a multidimensional Fortran\n",
      "array, use 'a.T.view(...).T' instead\n",
      "  obj_bytes_view = obj.view(self.np.uint8)\n",
      "D:\\Program Files\\Anaconda\\lib\\site-packages\\sklearn\\externals\\joblib\\hashing.py:197: DeprecationWarning: Changing the shape of non-C contiguous array by\n",
      "descriptor assignment is deprecated. To maintain\n",
      "the Fortran contiguity of a multidimensional Fortran\n",
      "array, use 'a.T.view(...).T' instead\n",
      "  obj_bytes_view = obj.view(self.np.uint8)\n",
      "D:\\Program Files\\Anaconda\\lib\\site-packages\\sklearn\\externals\\joblib\\hashing.py:197: DeprecationWarning: Changing the shape of non-C contiguous array by\n",
      "descriptor assignment is deprecated. To maintain\n",
      "the Fortran contiguity of a multidimensional Fortran\n",
      "array, use 'a.T.view(...).T' instead\n",
      "  obj_bytes_view = obj.view(self.np.uint8)\n",
      "D:\\Program Files\\Anaconda\\lib\\site-packages\\sklearn\\externals\\joblib\\hashing.py:197: DeprecationWarning: Changing the shape of non-C contiguous array by\n",
      "descriptor assignment is deprecated. To maintain\n",
      "the Fortran contiguity of a multidimensional Fortran\n",
      "array, use 'a.T.view(...).T' instead\n",
      "  obj_bytes_view = obj.view(self.np.uint8)\n",
      "D:\\Program Files\\Anaconda\\lib\\site-packages\\sklearn\\externals\\joblib\\hashing.py:197: DeprecationWarning: Changing the shape of non-C contiguous array by\n",
      "descriptor assignment is deprecated. To maintain\n",
      "the Fortran contiguity of a multidimensional Fortran\n",
      "array, use 'a.T.view(...).T' instead\n",
      "  obj_bytes_view = obj.view(self.np.uint8)\n",
      "D:\\Program Files\\Anaconda\\lib\\site-packages\\sklearn\\externals\\joblib\\hashing.py:197: DeprecationWarning: Changing the shape of non-C contiguous array by\n",
      "descriptor assignment is deprecated. To maintain\n",
      "the Fortran contiguity of a multidimensional Fortran\n",
      "array, use 'a.T.view(...).T' instead\n",
      "  obj_bytes_view = obj.view(self.np.uint8)\n",
      "D:\\Program Files\\Anaconda\\lib\\site-packages\\sklearn\\externals\\joblib\\hashing.py:197: DeprecationWarning: Changing the shape of non-C contiguous array by\n",
      "descriptor assignment is deprecated. To maintain\n",
      "the Fortran contiguity of a multidimensional Fortran\n",
      "array, use 'a.T.view(...).T' instead\n",
      "  obj_bytes_view = obj.view(self.np.uint8)\n",
      "D:\\Program Files\\Anaconda\\lib\\site-packages\\sklearn\\externals\\joblib\\hashing.py:197: DeprecationWarning: Changing the shape of non-C contiguous array by\n",
      "descriptor assignment is deprecated. To maintain\n",
      "the Fortran contiguity of a multidimensional Fortran\n",
      "array, use 'a.T.view(...).T' instead\n",
      "  obj_bytes_view = obj.view(self.np.uint8)\n"
     ]
    }
   ],
   "source": [
    "kmeans = KMeans(n_jobs=-1, n_clusters=8, random_state=0).fit(x_train)"
   ]
  },
  {
   "cell_type": "code",
   "execution_count": 94,
   "metadata": {
    "collapsed": false
   },
   "outputs": [
    {
     "data": {
      "text/plain": [
       "1538540"
      ]
     },
     "execution_count": 94,
     "metadata": {},
     "output_type": "execute_result"
    }
   ],
   "source": [
    "len(kmeans.labels_)"
   ]
  },
  {
   "cell_type": "code",
   "execution_count": 95,
   "metadata": {
    "collapsed": false
   },
   "outputs": [],
   "source": [
    "resultKmens = kmeans.predict(x_test)"
   ]
  },
  {
   "cell_type": "code",
   "execution_count": 96,
   "metadata": {
    "collapsed": false
   },
   "outputs": [
    {
     "name": "stdout",
     "output_type": "stream",
     "text": [
      "Testing accuracy: 0.132283853523\n"
     ]
    }
   ],
   "source": [
    "print(\"Testing accuracy:\",metrics.accuracy_score(y_test, resultKmens))"
   ]
  },
  {
   "cell_type": "code",
   "execution_count": null,
   "metadata": {
    "collapsed": true
   },
   "outputs": [],
   "source": []
  }
 ],
 "metadata": {
  "anaconda-cloud": {},
  "kernelspec": {
   "display_name": "Python [conda root]",
   "language": "python",
   "name": "conda-root-py"
  },
  "language_info": {
   "codemirror_mode": {
    "name": "ipython",
    "version": 3
   },
   "file_extension": ".py",
   "mimetype": "text/x-python",
   "name": "python",
   "nbconvert_exporter": "python",
   "pygments_lexer": "ipython3",
   "version": "3.5.2"
  },
  "widgets": {
   "state": {
    "5866ee27c9b84c74b2733037970d9fec": {
     "views": [
      {
       "cell_index": 6
      }
     ]
    },
    "d79242549a0c49f18bb9c3bd212cf277": {
     "views": [
      {
       "cell_index": 3
      }
     ]
    }
   },
   "version": "1.2.0"
  }
 },
 "nbformat": 4,
 "nbformat_minor": 1
}
