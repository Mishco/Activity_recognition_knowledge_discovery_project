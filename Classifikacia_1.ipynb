{
 "cells": [
  {
   "cell_type": "code",
   "execution_count": 70,
   "metadata": {
    "collapsed": false
   },
   "outputs": [],
   "source": [
    "#import pandas and numpy libraries\n",
    "import pandas as pd\n",
    "import numpy as np\n",
    "import sys #sys needed only for python version\n",
    "#import gaussian naive bayes from scikit-learn\n",
    "import sklearn as sk\n",
    "#seaborn for pretty plots\n",
    "import seaborn as sns\n",
    "import os\n",
    "\n",
    "from sklearn import metrics\n",
    "from sklearn import svm\n",
    "from sklearn.ensemble import RandomForestClassifier\n",
    "from sklearn.neighbors import KNeighborsClassifier\n"
   ]
  },
  {
   "cell_type": "code",
   "execution_count": 2,
   "metadata": {
    "collapsed": true
   },
   "outputs": [],
   "source": [
    "\n",
    "\n",
    "def log_progress(sequence, every=None, size=None, name='Items'):\n",
    "    from ipywidgets import IntProgress, HTML, VBox\n",
    "    from IPython.display import display\n",
    "\n",
    "    is_iterator = False\n",
    "    if size is None:\n",
    "        try:\n",
    "            size = len(sequence)\n",
    "        except TypeError:\n",
    "            is_iterator = True\n",
    "    if size is not None:\n",
    "        if every is None:\n",
    "            if size <= 200:\n",
    "                every = 1\n",
    "            else:\n",
    "                every = int(size / 200)     # every 0.5%\n",
    "    else:\n",
    "        assert every is not None, 'sequence is iterator, set every'\n",
    "\n",
    "    if is_iterator:\n",
    "        progress = IntProgress(min=0, max=1, value=1)\n",
    "        progress.bar_style = 'info'\n",
    "    else:\n",
    "        progress = IntProgress(min=0, max=size, value=0)\n",
    "    label = HTML()\n",
    "    box = VBox(children=[label, progress])\n",
    "    display(box)\n",
    "\n",
    "    index = 0\n",
    "    try:\n",
    "        for index, record in enumerate(sequence, 1):\n",
    "            if index == 1 or index % every == 0:\n",
    "                if is_iterator:\n",
    "                    label.value = '{name}: {index} / ?'.format(\n",
    "                        name=name,\n",
    "                        index=index\n",
    "                    )\n",
    "                else:\n",
    "                    progress.value = index\n",
    "                    label.value = u'{name}: {index} / {size}'.format(\n",
    "                        name=name,\n",
    "                        index=index,\n",
    "                        size=size\n",
    "                    )\n",
    "            yield record\n",
    "    except:\n",
    "        progress.bar_style = 'danger'\n",
    "        raise\n",
    "    else:\n",
    "        progress.bar_style = 'success'\n",
    "        progress.value = index\n",
    "        label.value = \"{name}: {index}\".format(\n",
    "            name=name,\n",
    "            index=str(index or '?')\n",
    "        )\n",
    "\n"
   ]
  },
  {
   "cell_type": "code",
   "execution_count": 3,
   "metadata": {
    "collapsed": false
   },
   "outputs": [],
   "source": [
    "# nacitanie dat \n",
    "#df_slide1 = pd.read_csv('size=25/sliding1.csv', sep=',', header=None,\n",
    "#                 error_bad_lines=False, warn_bad_lines=True, low_memory=False)\n",
    "\n"
   ]
  },
  {
   "cell_type": "code",
   "execution_count": 4,
   "metadata": {
    "collapsed": false
   },
   "outputs": [],
   "source": [
    "directory = 'size=25/'\n",
    "\n",
    "frames = []\n",
    "allcsvFiles = []\n",
    "for root,dirs, files in os.walk(directory):\n",
    "    for file in log_progress(files,every=1):\n",
    "        if file.startswith('result'):\n",
    "            \n",
    "        else:\n",
    "            allcsvFiles.append(file)\n",
    "            \n",
    "       #if (file.endswith(\".csv\")):\n",
    "       #    f=open(directory + file, 'r')\n",
    "       #    # perform calculation\n",
    "       #    df1 = pd.read_csv(f,sep=',')\n",
    "       #    frames.append(df1)\n",
    "       # \n",
    "       #    f.close()"
   ]
  },
  {
   "cell_type": "code",
   "execution_count": 5,
   "metadata": {
    "collapsed": false
   },
   "outputs": [
    {
     "name": "stdout",
     "output_type": "stream",
     "text": [
      "['sliding1.csv', 'sliding10.csv', 'sliding11.csv', 'sliding12.csv', 'sliding13.csv', 'sliding14.csv', 'sliding15.csv', 'sliding16.csv', 'sliding17.csv', 'sliding18.csv', 'sliding19.csv', 'sliding2.csv', 'sliding20.csv', 'sliding3.csv', 'sliding4.csv', 'sliding5.csv', 'sliding6.csv', 'sliding7.csv', 'sliding8.csv', 'sliding9.csv']\n"
     ]
    }
   ],
   "source": [
    "print(allcsvFiles)"
   ]
  },
  {
   "cell_type": "code",
   "execution_count": 6,
   "metadata": {
    "collapsed": false
   },
   "outputs": [],
   "source": [
    "def getint(name):\n",
    "    basename = name.partition('.')[0]\n",
    "    alpha, num = basename.split('g')\n",
    "    return int(num)\n",
    "allcsvFiles = sorted(allcsvFiles, key=getint)\n"
   ]
  },
  {
   "cell_type": "code",
   "execution_count": 7,
   "metadata": {
    "collapsed": true
   },
   "outputs": [],
   "source": [
    "directory = 'size=25/'\n",
    "frames = []\n",
    "for file in log_progress(allcsvFiles,every=1):\n",
    "       if (file.endswith(\".csv\")):\n",
    "           f=open(directory + file, 'r')\n",
    "           df1 = pd.read_csv(f,sep=',')\n",
    "           frames.append(df1)\n",
    "           f.close()"
   ]
  },
  {
   "cell_type": "code",
   "execution_count": 8,
   "metadata": {
    "collapsed": false
   },
   "outputs": [],
   "source": [
    "# zoradenie frames\n",
    "resultcsv = pd.concat(frames)\n"
   ]
  },
  {
   "cell_type": "code",
   "execution_count": 9,
   "metadata": {
    "collapsed": false
   },
   "outputs": [
    {
     "name": "stdout",
     "output_type": "stream",
     "text": [
      "['0_x', '0_y', '0_z', '1_x', '1_y', '1_z', '2_x', '2_y', '2_z', '3_x', '3_y', '3_z', '4_x', '4_y', '4_z', '5_x', '5_y', '5_z', '6_x', '6_y', '6_z', '7_x', '7_y', '7_z', '8_x', '8_y', '8_z', '9_x', '9_y', '9_z', '10_x', '10_y', '10_z', '11_x', '11_y', '11_z', '12_x', '12_y', '12_z', '13_x', '13_y', '13_z', '14_x', '14_y', '14_z', '15_x', '15_y', '15_z', '16_x', '16_y', '16_z', '17_x', '17_y', '17_z', '18_x', '18_y', '18_z', '19_x', '19_y', '19_z', '20_x', '20_y', '20_z', '21_x', '21_y', '21_z', '22_x', '22_y', '22_z', '23_x', '23_y', '23_z', '24_x', '24_y', '24_z']\n"
     ]
    }
   ],
   "source": [
    "# SAVE TO CSV FILE\n",
    "resultcsv = resultcsv.reset_index()\n",
    "del resultcsv['Unnamed: 0']\n",
    "del resultcsv['index']\n",
    "# del resultcsv['level_0']\n",
    "resultcsv.to_csv(directory + 'result.csv', sep=',')\n",
    "# print(resultcsv.columns)\n",
    "cols = [col for col in resultcsv.columns if col not in ['Unnamed: 0','movement','user']]\n",
    "\n",
    "print(cols)"
   ]
  },
  {
   "cell_type": "code",
   "execution_count": null,
   "metadata": {
    "collapsed": false
   },
   "outputs": [],
   "source": [
    "print (resultcsv)"
   ]
  },
  {
   "cell_type": "code",
   "execution_count": 10,
   "metadata": {
    "collapsed": false
   },
   "outputs": [
    {
     "name": "stderr",
     "output_type": "stream",
     "text": [
      "C:\\ProgramData\\Anaconda3\\envs\\py36\\lib\\site-packages\\sklearn\\cross_validation.py:44: DeprecationWarning: This module was deprecated in version 0.18 in favor of the model_selection module into which all the refactored classes and functions are moved. Also note that the interface of the new CV iterators are different from that of this module. This module will be removed in 0.20.\n",
      "  \"This module will be removed in 0.20.\", DeprecationWarning)\n"
     ]
    }
   ],
   "source": [
    "\n",
    "from sklearn.cross_validation import train_test_split\n",
    "x_train, x_test, y_train, y_test = train_test_split(resultcsv[cols], resultcsv['movement'], test_size=0.2)\n",
    "\n",
    "#initialize and fit the naive bayes classifier\n",
    "from sklearn.naive_bayes import GaussianNB\n",
    "skgnb = GaussianNB()"
   ]
  },
  {
   "cell_type": "code",
   "execution_count": 11,
   "metadata": {
    "collapsed": false
   },
   "outputs": [],
   "source": [
    "#print(y_train)\n",
    "\n",
    "skgnb.fit(x_train,y_train)\n",
    "train_predict = skgnb.predict(x_train)\n",
    "#print(train_predict))"
   ]
  },
  {
   "cell_type": "code",
   "execution_count": 12,
   "metadata": {
    "collapsed": false
   },
   "outputs": [
    {
     "name": "stdout",
     "output_type": "stream",
     "text": [
      "[7 7 7 ..., 7 7 7]\n"
     ]
    }
   ],
   "source": [
    "print(train_predict)"
   ]
  },
  {
   "cell_type": "code",
   "execution_count": 13,
   "metadata": {
    "collapsed": false
   },
   "outputs": [
    {
     "name": "stdout",
     "output_type": "stream",
     "text": [
      "Training accuracy: 0.266738596332\n",
      "Testing accuracy: 0.266478609591\n"
     ]
    }
   ],
   "source": [
    "#see how accurate the training data was fit\n",
    "print(\"Training accuracy:\",metrics.accuracy_score(y_train, train_predict))\n",
    "\n",
    "#use the trained model to predict the test values\n",
    "test_predict = skgnb.predict(x_test)\n",
    "print(\"Testing accuracy:\",metrics.accuracy_score(y_test, test_predict))"
   ]
  },
  {
   "cell_type": "markdown",
   "metadata": {},
   "source": [
    "**naive-bayes na vzorke test_size=33** \n",
    "* aj metriky\n"
   ]
  },
  {
   "cell_type": "code",
   "execution_count": 87,
   "metadata": {
    "collapsed": false
   },
   "outputs": [
    {
     "name": "stdout",
     "output_type": "stream",
     "text": [
      "Training accuracy: 0.267741382214\n",
      "Testing accuracy: 0.266686415147\n"
     ]
    }
   ],
   "source": [
    "x_train, x_test, y_train, y_test = train_test_split(resultcsv[cols], resultcsv['movement'], test_size=0.33)\n",
    "skgnb = GaussianNB()\n",
    "skgnb.fit(x_train,y_train)\n",
    "train_predict = skgnb.predict(x_train)\n",
    "test_predict = skgnb.predict(x_test)\n",
    "\n",
    "print(\"Training accuracy:\",metrics.accuracy_score(y_train, train_predict))\n",
    "print(\"Testing accuracy:\",metrics.accuracy_score(y_test, test_predict))"
   ]
  },
  {
   "cell_type": "code",
   "execution_count": 34,
   "metadata": {
    "collapsed": false
   },
   "outputs": [
    {
     "name": "stdout",
     "output_type": "stream",
     "text": [
      "\n",
      "Classification Report:\n",
      "             precision    recall  f1-score   support\n",
      "\n",
      " movement_0       0.01      0.83      0.02       721\n",
      " movement_1       0.70      0.22      0.34    121881\n",
      " movement_2       0.03      0.13      0.04      9485\n",
      " movement_3       0.12      0.07      0.09     43147\n",
      " movement_4       0.59      0.21      0.31     71238\n",
      " movement_5       0.11      0.14      0.12     10148\n",
      " movement_6       0.08      0.47      0.14      9446\n",
      " movement_7       0.42      0.42      0.42    118569\n",
      "\n",
      "avg / total       0.48      0.27      0.31    384635\n",
      "\n",
      "\n",
      "Confusion Matrix:\n",
      "            movement_0  movement_1  movement_2  movement_3  movement_4  \\\n",
      "actual                                                                   \n",
      "movement_0         597           4           0           0          32   \n",
      "movement_1       24461       26942       23071        8209        3480   \n",
      "movement_2        1124        1129        1252        1466         378   \n",
      "movement_3        4623         637        5185        3118        2421   \n",
      "movement_4        8580        4985        8173        4731       14719   \n",
      "movement_5        1402        1704         937         121         953   \n",
      "movement_6         772         147        1176         228         418   \n",
      "movement_7       20863        2885        7532        7665        2677   \n",
      "\n",
      "            movement_5  movement_6  movement_7  \n",
      "actual                                          \n",
      "movement_0           8          59          21  \n",
      "movement_1        1555        5176       28987  \n",
      "movement_2         185         914        3037  \n",
      "movement_3        1627        8726       16810  \n",
      "movement_4        6789        6692       16569  \n",
      "movement_5        1391        1969        1671  \n",
      "movement_6         177        4458        2070  \n",
      "movement_7        1245       25682       50020  \n"
     ]
    }
   ],
   "source": [
    "print(\"\\nClassification Report:\")\n",
    "# print(set(y_test))\n",
    "names=[]\n",
    "for i in range(8):\n",
    "    names.append('movement_'+str(i))\n",
    "print(metrics.classification_report(y_test, test_predict,target_names=names))\n",
    "print(\"\\nConfusion Matrix:\")\n",
    "\n",
    "skcm = metrics.confusion_matrix(y_test,test_predict)\n",
    "#putting it into a dataframe so it prints the labels\n",
    "    \n",
    "skcm = pd.DataFrame(skcm, columns=names)\n",
    "skcm['actual'] = names\n",
    "skcm = skcm.set_index('actual')\n",
    "print(skcm)"
   ]
  },
  {
   "cell_type": "code",
   "execution_count": 38,
   "metadata": {
    "collapsed": false
   },
   "outputs": [
    {
     "data": {
      "text/plain": [
       "SVC(C=1.0, cache_size=200, class_weight=None, coef0=0.0,\n",
       "  decision_function_shape=None, degree=3, gamma='auto', kernel='rbf',\n",
       "  max_iter=-1, probability=False, random_state=None, shrinking=True,\n",
       "  tol=0.001, verbose=False)"
      ]
     },
     "execution_count": 38,
     "metadata": {},
     "output_type": "execute_result"
    }
   ],
   "source": [
    "X = [[0, 0], [1, 1]]\n",
    "y = [0, 1]\n",
    "clf = svm.SVC()\n",
    "clf.fit(X,y)"
   ]
  },
  {
   "cell_type": "code",
   "execution_count": 66,
   "metadata": {
    "collapsed": false
   },
   "outputs": [
    {
     "data": {
      "text/plain": [
       "LinearSVC(C=1.0, class_weight=None, dual=True, fit_intercept=True,\n",
       "     intercept_scaling=1, loss='squared_hinge', max_iter=100,\n",
       "     multi_class='ovr', penalty='l2', random_state=None, tol=0.0001,\n",
       "     verbose=0)"
      ]
     },
     "execution_count": 66,
     "metadata": {},
     "output_type": "execute_result"
    }
   ],
   "source": [
    "# nsvm = svm.SVC(max_iter=25,cache_size=1500)\n",
    "nsvm = svm.LinearSVC(max_iter=100)\n",
    "nsvm.fit(x_train,y_train)"
   ]
  },
  {
   "cell_type": "code",
   "execution_count": 67,
   "metadata": {
    "collapsed": false
   },
   "outputs": [],
   "source": [
    "res = nsvm.predict(x_test)\n"
   ]
  },
  {
   "cell_type": "code",
   "execution_count": 68,
   "metadata": {
    "collapsed": false
   },
   "outputs": [
    {
     "name": "stdout",
     "output_type": "stream",
     "text": [
      "Testing accuracy: 0.308263678552\n"
     ]
    }
   ],
   "source": [
    "## TOTO JE PRE svm.SVC\n",
    "# pri max_iter=10 bola acc 0.15035\n",
    "# pri max_iter=100 Testing accuracy: 0.0343000506974\n",
    "# pri max_iter=20 Testing accuracy: 0.291946910708\n",
    "# pri max_iter=30 Testing accuracy: 0.25660431318\n",
    "# pri max_iter=25 Testing accuracy: 0.240381140562\n",
    "## TERAZ JE TO PRE svm.LinearSVC\n",
    "# pri max_iter=10 Testing accuracy: 0.308263678552\n",
    "\n",
    "print(\"Testing accuracy:\",metrics.accuracy_score(y_test, res))"
   ]
  },
  {
   "cell_type": "code",
   "execution_count": 72,
   "metadata": {
    "collapsed": false
   },
   "outputs": [],
   "source": [
    "clf = RandomForestClassifier(n_estimators=10, n_jobs=-1, )\n",
    "clf = clf.fit(x_train, y_train)"
   ]
  },
  {
   "cell_type": "code",
   "execution_count": 73,
   "metadata": {
    "collapsed": true
   },
   "outputs": [],
   "source": [
    "res2 = clf.predict(x_test)"
   ]
  },
  {
   "cell_type": "code",
   "execution_count": 74,
   "metadata": {
    "collapsed": false
   },
   "outputs": [
    {
     "name": "stdout",
     "output_type": "stream",
     "text": [
      "Testing accuracy: 0.870594199696\n"
     ]
    }
   ],
   "source": [
    "# randomforest n_estimators=10, Testing accuracy: 0.870594199696\n",
    "print(\"Testing accuracy:\",metrics.accuracy_score(y_test, res2))"
   ]
  },
  {
   "cell_type": "code",
   "execution_count": 75,
   "metadata": {
    "collapsed": false
   },
   "outputs": [
    {
     "name": "stdout",
     "output_type": "stream",
     "text": [
      "\n",
      "Classification Report:\n",
      "             precision    recall  f1-score   support\n",
      "\n",
      " movement_0       0.62      0.26      0.36       721\n",
      " movement_1       0.94      0.96      0.95    121881\n",
      " movement_2       0.77      0.41      0.53      9485\n",
      " movement_3       0.73      0.68      0.70     43147\n",
      " movement_4       0.84      0.94      0.89     71238\n",
      " movement_5       0.70      0.42      0.52     10148\n",
      " movement_6       0.74      0.42      0.54      9446\n",
      " movement_7       0.88      0.93      0.91    118569\n",
      "\n",
      "avg / total       0.86      0.87      0.86    384635\n",
      "\n"
     ]
    }
   ],
   "source": [
    "print(\"\\nClassification Report:\")\n",
    "names=[]\n",
    "for i in range(8):\n",
    "    names.append('movement_'+str(i))\n",
    "print(metrics.classification_report(y_test, res2,target_names=names))"
   ]
  },
  {
   "cell_type": "code",
   "execution_count": 78,
   "metadata": {
    "collapsed": false
   },
   "outputs": [
    {
     "data": {
      "text/plain": [
       "KNeighborsClassifier(algorithm='auto', leaf_size=30, metric='minkowski',\n",
       "           metric_params=None, n_jobs=-1, n_neighbors=3, p=2,\n",
       "           weights='uniform')"
      ]
     },
     "execution_count": 78,
     "metadata": {},
     "output_type": "execute_result"
    }
   ],
   "source": [
    "%%time\n",
    "neigh = KNeighborsClassifier(n_neighbors=3, n_jobs=-1)\n",
    "neigh.fit(x_train, y_train) "
   ]
  },
  {
   "cell_type": "code",
   "execution_count": 79,
   "metadata": {
    "collapsed": true
   },
   "outputs": [],
   "source": [
    "%%time\n",
    "res3 = neigh.predict(x_test)"
   ]
  },
  {
   "cell_type": "code",
   "execution_count": 82,
   "metadata": {
    "collapsed": false
   },
   "outputs": [
    {
     "name": "stdout",
     "output_type": "stream",
     "text": [
      "Testing accuracy: 0.93330040168\n"
     ]
    }
   ],
   "source": [
    "# kNN n_neighbors=3, Testing accuracy: 0.93330040168\n",
    "print(\"Testing accuracy:\",metrics.accuracy_score(y_test, res3))"
   ]
  },
  {
   "cell_type": "code",
   "execution_count": 83,
   "metadata": {
    "collapsed": false
   },
   "outputs": [
    {
     "name": "stdout",
     "output_type": "stream",
     "text": [
      "\n",
      "Classification Report:\n",
      "             precision    recall  f1-score   support\n",
      "\n",
      " movement_0       0.62      0.67      0.65       721\n",
      " movement_1       0.97      0.97      0.97    121881\n",
      " movement_2       0.83      0.75      0.79      9485\n",
      " movement_3       0.84      0.83      0.84     43147\n",
      " movement_4       0.94      0.96      0.95     71238\n",
      " movement_5       0.79      0.77      0.78     10148\n",
      " movement_6       0.84      0.71      0.77      9446\n",
      " movement_7       0.95      0.96      0.96    118569\n",
      "\n",
      "avg / total       0.93      0.93      0.93    384635\n",
      "\n"
     ]
    }
   ],
   "source": [
    "print(\"\\nClassification Report:\")\n",
    "names=[]\n",
    "for i in range(8):\n",
    "    names.append('movement_'+str(i))\n",
    "print(metrics.classification_report(y_test, res3,target_names=names))"
   ]
  },
  {
   "cell_type": "code",
   "execution_count": null,
   "metadata": {
    "collapsed": true
   },
   "outputs": [],
   "source": []
  }
 ],
 "metadata": {
  "anaconda-cloud": {},
  "kernelspec": {
   "display_name": "Python 3",
   "language": "python",
   "name": "python3"
  },
  "language_info": {
   "codemirror_mode": {
    "name": "ipython",
    "version": 3
   },
   "file_extension": ".py",
   "mimetype": "text/x-python",
   "name": "python",
   "nbconvert_exporter": "python",
   "pygments_lexer": "ipython3",
   "version": "3.6.0"
  },
  "widgets": {
   "state": {
    "923327a706e84efe961171cdd6d3f40b": {
     "views": [
      {
       "cell_index": 6
      }
     ]
    },
    "be74d25a97c04c30bad494fb42a27946": {
     "views": [
      {
       "cell_index": 3
      }
     ]
    }
   },
   "version": "1.2.0"
  }
 },
 "nbformat": 4,
 "nbformat_minor": 1
}
